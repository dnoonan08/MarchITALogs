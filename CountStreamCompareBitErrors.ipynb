{
 "cells": [
  {
   "cell_type": "code",
   "execution_count": null,
   "id": "b12c42f3",
   "metadata": {},
   "outputs": [],
   "source": [
    "import pandas as pd\n",
    "import glob\n",
    "import re\n",
    "import numpy as np"
   ]
  },
  {
   "cell_type": "code",
   "execution_count": null,
   "id": "8231936f",
   "metadata": {},
   "outputs": [],
   "source": [
    "fList=glob.glob('logs/DAQ_logs/lc-ASIC*csv')"
   ]
  },
  {
   "cell_type": "code",
   "execution_count": null,
   "id": "b9b74166",
   "metadata": {},
   "outputs": [],
   "source": [
    "x=re.compile('logs/DAQ_logs/lc-ASIC_*(.*)_(\\d\\d)mar_(\\d*).csv')"
   ]
  },
  {
   "cell_type": "code",
   "execution_count": null,
   "id": "e49c7377",
   "metadata": {},
   "outputs": [],
   "source": [
    "timestamp=[]\n",
    "extraInfo=[]\n",
    "errorInfo=[]\n",
    "for f in fList[:]:\n",
    "    extra_,date_,time_=x.match(f).groups()\n",
    "    dfASIC=pd.read_csv(f)\n",
    "    dfEm=pd.read_csv(f.replace('ASIC','emulator'))\n",
    "    try:\n",
    "        bits_ASIC=np.array([[*f\"{int(''.join(x),16):0256b}\"] for x in dfASIC.values[:,:8]],dtype=int)\n",
    "        bits_Em=np.array([[*f\"{int(''.join(x),16):0256b}\"] for x in dfEm.values[:,:8]],dtype=int)\n",
    "        bitErrors=~(bits_ASIC==bits_Em)\n",
    "        errorInfo.append([bitErrors.any(axis=1).sum(),bitErrors[:30].sum(),bitErrors[30:330].sum(),bitErrors[330:1000].sum(),bitErrors[1000:2000].sum(),bitErrors[2000:].sum()])\n",
    "        timestamp.append(f'03-{date_}-22 {time_[:2]}:{time_[2:4]}:{time_[4:]}')\n",
    "        extraInfo.append(extra_)\n",
    "    except:\n",
    "        print('ERROR WITH',f)"
   ]
  },
  {
   "cell_type": "code",
   "execution_count": null,
   "id": "ff30618a",
   "metadata": {},
   "outputs": [],
   "source": [
    "df=pd.DataFrame(errorInfo,index=pd.to_datetime(timestamp),columns=['BX_Err_Cnt','Bit_Err_Early','Bit_Err_Spill','Bit_Err_ShortAfter','Bit_Err_MidAfter','Bit_Err_LongAfter'])"
   ]
  },
  {
   "cell_type": "code",
   "execution_count": null,
   "id": "cf0e9f10",
   "metadata": {},
   "outputs": [],
   "source": [
    "df['ExtraInfo']=extraInfo"
   ]
  },
  {
   "cell_type": "code",
   "execution_count": null,
   "id": "296b63f5",
   "metadata": {
    "scrolled": false
   },
   "outputs": [],
   "source": [
    "df"
   ]
  },
  {
   "cell_type": "code",
   "execution_count": null,
   "id": "0311ac74",
   "metadata": {},
   "outputs": [],
   "source": [
    "df.to_csv('logs/BitErrorCounts.csv')"
   ]
  }
 ],
 "metadata": {
  "kernelspec": {
   "display_name": "Python 3 (ipykernel)",
   "language": "python",
   "name": "python3"
  },
  "language_info": {
   "codemirror_mode": {
    "name": "ipython",
    "version": 3
   },
   "file_extension": ".py",
   "mimetype": "text/x-python",
   "name": "python",
   "nbconvert_exporter": "python",
   "pygments_lexer": "ipython3",
   "version": "3.8.9"
  }
 },
 "nbformat": 4,
 "nbformat_minor": 5
}
