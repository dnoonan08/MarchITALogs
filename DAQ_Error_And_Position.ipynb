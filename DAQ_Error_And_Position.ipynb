{
 "cells": [
  {
   "cell_type": "code",
   "execution_count": 99,
   "id": "9a3e2c90",
   "metadata": {},
   "outputs": [],
   "source": [
    "import glob\n",
    "import pandas as pd\n",
    "import numpy as np"
   ]
  },
  {
   "cell_type": "code",
   "execution_count": 66,
   "id": "ab14b21a",
   "metadata": {},
   "outputs": [],
   "source": [
    "import re\n",
    "import os\n",
    "import sys"
   ]
  },
  {
   "cell_type": "code",
   "execution_count": 67,
   "id": "0f4c3643",
   "metadata": {},
   "outputs": [],
   "source": [
    "logList=glob.glob('logs/DAQ_logs/lc*mar*')"
   ]
  },
  {
   "cell_type": "code",
   "execution_count": 64,
   "id": "faaed124",
   "metadata": {},
   "outputs": [],
   "source": [
    "df=pd.read_csv('logs/Positioning.csv')"
   ]
  },
  {
   "cell_type": "code",
   "execution_count": 65,
   "id": "bbad4b11",
   "metadata": {},
   "outputs": [],
   "source": [
    "df.Time=pd.to_datetime(df.Time)\n",
    "df.set_index('Time',inplace=True)"
   ]
  },
  {
   "cell_type": "code",
   "execution_count": 68,
   "id": "25b027a2",
   "metadata": {},
   "outputs": [],
   "source": [
    "x=re.compile('.*_(\\d\\d)mar_(\\d*).csv')"
   ]
  },
  {
   "cell_type": "code",
   "execution_count": 70,
   "id": "0aed9651",
   "metadata": {},
   "outputs": [],
   "source": [
    "timestamps=[]\n",
    "for l in logList:\n",
    "    g=x.match(l).groups()\n",
    "    t=f'03-{g[0]}-22 {g[1][:2]}:{g[1][2:4]}:{g[1][4:6]}'\n",
    "    timestamps.append(t)\n"
   ]
  },
  {
   "cell_type": "code",
   "execution_count": 71,
   "id": "0887afcf",
   "metadata": {},
   "outputs": [
    {
     "data": {
      "text/plain": [
       "7518"
      ]
     },
     "execution_count": 71,
     "metadata": {},
     "output_type": "execute_result"
    }
   ],
   "source": [
    "len(timestamps)"
   ]
  },
  {
   "cell_type": "code",
   "execution_count": 72,
   "id": "25bf236c",
   "metadata": {},
   "outputs": [
    {
     "data": {
      "text/plain": [
       "7518"
      ]
     },
     "execution_count": 72,
     "metadata": {},
     "output_type": "execute_result"
    }
   ],
   "source": [
    "len(logList)"
   ]
  },
  {
   "cell_type": "code",
   "execution_count": 233,
   "id": "868fe7b3",
   "metadata": {},
   "outputs": [],
   "source": [
    "df_Files=pd.DataFrame({'fileName':logList,'Time':pd.to_datetime(timestamps)})"
   ]
  },
  {
   "cell_type": "code",
   "execution_count": 234,
   "id": "d616c9cc",
   "metadata": {},
   "outputs": [],
   "source": [
    "df_Files.set_index('Time',inplace=True)\n",
    "df_Files.sort_index(inplace=True)"
   ]
  },
  {
   "cell_type": "code",
   "execution_count": 235,
   "id": "d66958c9",
   "metadata": {},
   "outputs": [],
   "source": [
    "df_Files['fType']=np.where(df_Files.fileName.str.contains('emulator'),'fName_Emulator',\n",
    "                          np.where(df_Files.fileName.str.contains('ASIC'),'fName_ASIC','fName_Input'))"
   ]
  },
  {
   "cell_type": "code",
   "execution_count": 236,
   "id": "6adb5719",
   "metadata": {},
   "outputs": [],
   "source": [
    "df_Files=df_Files.reset_index().pivot(index='Time',columns='fType',values='fileName')\n"
   ]
  },
  {
   "cell_type": "code",
   "execution_count": 237,
   "id": "7fb1f02c",
   "metadata": {},
   "outputs": [],
   "source": [
    "df_Files=df_Files.merge(df,how='outer',left_index=True,right_index=True)\n",
    "df_Files.sort_index(inplace=True)\n",
    "df_Files.columns=['fName_ASIC', 'fName_Emulator', 'fName_Input','RelPosition','MotionTable']\n",
    "df_Files.RelPosition=df_Files.RelPosition.ffill().astype(int)\n",
    "df_Files.MotionTable=df_Files.MotionTable.ffill().astype(int)\n",
    "\n",
    "df_Files.dropna(inplace=True)\n"
   ]
  },
  {
   "cell_type": "code",
   "execution_count": null,
   "id": "bf86d939",
   "metadata": {},
   "outputs": [],
   "source": []
  },
  {
   "cell_type": "code",
   "execution_count": 238,
   "id": "83666193",
   "metadata": {},
   "outputs": [
    {
     "data": {
      "text/html": [
       "<div>\n",
       "<style scoped>\n",
       "    .dataframe tbody tr th:only-of-type {\n",
       "        vertical-align: middle;\n",
       "    }\n",
       "\n",
       "    .dataframe tbody tr th {\n",
       "        vertical-align: top;\n",
       "    }\n",
       "\n",
       "    .dataframe thead th {\n",
       "        text-align: right;\n",
       "    }\n",
       "</style>\n",
       "<table border=\"1\" class=\"dataframe\">\n",
       "  <thead>\n",
       "    <tr style=\"text-align: right;\">\n",
       "      <th></th>\n",
       "      <th>fName_ASIC</th>\n",
       "      <th>fName_Emulator</th>\n",
       "      <th>fName_Input</th>\n",
       "      <th>RelPosition</th>\n",
       "      <th>MotionTable</th>\n",
       "    </tr>\n",
       "    <tr>\n",
       "      <th>Time</th>\n",
       "      <th></th>\n",
       "      <th></th>\n",
       "      <th></th>\n",
       "      <th></th>\n",
       "      <th></th>\n",
       "    </tr>\n",
       "  </thead>\n",
       "  <tbody>\n",
       "    <tr>\n",
       "      <th>2022-03-11 17:38:56</th>\n",
       "      <td>logs/DAQ_logs/lc-ASIC_11mar_173856.csv</td>\n",
       "      <td>logs/DAQ_logs/lc-emulator_11mar_173856.csv</td>\n",
       "      <td>logs/DAQ_logs/lc-input_11mar_173856.csv</td>\n",
       "      <td>25</td>\n",
       "      <td>269</td>\n",
       "    </tr>\n",
       "    <tr>\n",
       "      <th>2022-03-11 17:39:26</th>\n",
       "      <td>logs/DAQ_logs/lc-ASIC_oot_11mar_173926.csv</td>\n",
       "      <td>logs/DAQ_logs/lc-emulator_oot_11mar_173926.csv</td>\n",
       "      <td>logs/DAQ_logs/lc-input_oot_11mar_173926.csv</td>\n",
       "      <td>25</td>\n",
       "      <td>269</td>\n",
       "    </tr>\n",
       "    <tr>\n",
       "      <th>2022-03-11 17:39:56</th>\n",
       "      <td>logs/DAQ_logs/lc-ASIC_11mar_173956.csv</td>\n",
       "      <td>logs/DAQ_logs/lc-emulator_11mar_173956.csv</td>\n",
       "      <td>logs/DAQ_logs/lc-input_11mar_173956.csv</td>\n",
       "      <td>25</td>\n",
       "      <td>269</td>\n",
       "    </tr>\n",
       "    <tr>\n",
       "      <th>2022-03-11 17:40:26</th>\n",
       "      <td>logs/DAQ_logs/lc-ASIC_oot_11mar_174026.csv</td>\n",
       "      <td>logs/DAQ_logs/lc-emulator_oot_11mar_174026.csv</td>\n",
       "      <td>logs/DAQ_logs/lc-input_oot_11mar_174026.csv</td>\n",
       "      <td>25</td>\n",
       "      <td>269</td>\n",
       "    </tr>\n",
       "    <tr>\n",
       "      <th>2022-03-11 17:40:57</th>\n",
       "      <td>logs/DAQ_logs/lc-ASIC_11mar_174057.csv</td>\n",
       "      <td>logs/DAQ_logs/lc-emulator_11mar_174057.csv</td>\n",
       "      <td>logs/DAQ_logs/lc-input_11mar_174057.csv</td>\n",
       "      <td>25</td>\n",
       "      <td>269</td>\n",
       "    </tr>\n",
       "    <tr>\n",
       "      <th>...</th>\n",
       "      <td>...</td>\n",
       "      <td>...</td>\n",
       "      <td>...</td>\n",
       "      <td>...</td>\n",
       "      <td>...</td>\n",
       "    </tr>\n",
       "    <tr>\n",
       "      <th>2022-03-17 17:03:56</th>\n",
       "      <td>logs/DAQ_logs/lc-ASIC_tsalgo_randdata_17mar_17...</td>\n",
       "      <td>logs/DAQ_logs/lc-emulator_tsalgo_randdata_17ma...</td>\n",
       "      <td>logs/DAQ_logs/lc-input_tsalgo_randdata_17mar_1...</td>\n",
       "      <td>25</td>\n",
       "      <td>269</td>\n",
       "    </tr>\n",
       "    <tr>\n",
       "      <th>2022-03-17 17:04:27</th>\n",
       "      <td>logs/DAQ_logs/lc-ASIC_tsalgo_randdata_oot_17ma...</td>\n",
       "      <td>logs/DAQ_logs/lc-emulator_tsalgo_randdata_oot_...</td>\n",
       "      <td>logs/DAQ_logs/lc-input_tsalgo_randdata_oot_17m...</td>\n",
       "      <td>25</td>\n",
       "      <td>269</td>\n",
       "    </tr>\n",
       "    <tr>\n",
       "      <th>2022-03-17 17:04:57</th>\n",
       "      <td>logs/DAQ_logs/lc-ASIC_tsalgo_randdata_17mar_17...</td>\n",
       "      <td>logs/DAQ_logs/lc-emulator_tsalgo_randdata_17ma...</td>\n",
       "      <td>logs/DAQ_logs/lc-input_tsalgo_randdata_17mar_1...</td>\n",
       "      <td>25</td>\n",
       "      <td>269</td>\n",
       "    </tr>\n",
       "    <tr>\n",
       "      <th>2022-03-17 17:05:56</th>\n",
       "      <td>logs/DAQ_logs/lc-ASIC_tsalgo_randdata_17mar_17...</td>\n",
       "      <td>logs/DAQ_logs/lc-emulator_tsalgo_randdata_17ma...</td>\n",
       "      <td>logs/DAQ_logs/lc-input_tsalgo_randdata_17mar_1...</td>\n",
       "      <td>25</td>\n",
       "      <td>269</td>\n",
       "    </tr>\n",
       "    <tr>\n",
       "      <th>2022-03-17 17:06:57</th>\n",
       "      <td>logs/DAQ_logs/lc-ASIC_tsalgo_randdata_17mar_17...</td>\n",
       "      <td>logs/DAQ_logs/lc-emulator_tsalgo_randdata_17ma...</td>\n",
       "      <td>logs/DAQ_logs/lc-input_tsalgo_randdata_17mar_1...</td>\n",
       "      <td>25</td>\n",
       "      <td>269</td>\n",
       "    </tr>\n",
       "  </tbody>\n",
       "</table>\n",
       "<p>2506 rows × 5 columns</p>\n",
       "</div>"
      ],
      "text/plain": [
       "                                                            fName_ASIC  \\\n",
       "Time                                                                     \n",
       "2022-03-11 17:38:56             logs/DAQ_logs/lc-ASIC_11mar_173856.csv   \n",
       "2022-03-11 17:39:26         logs/DAQ_logs/lc-ASIC_oot_11mar_173926.csv   \n",
       "2022-03-11 17:39:56             logs/DAQ_logs/lc-ASIC_11mar_173956.csv   \n",
       "2022-03-11 17:40:26         logs/DAQ_logs/lc-ASIC_oot_11mar_174026.csv   \n",
       "2022-03-11 17:40:57             logs/DAQ_logs/lc-ASIC_11mar_174057.csv   \n",
       "...                                                                ...   \n",
       "2022-03-17 17:03:56  logs/DAQ_logs/lc-ASIC_tsalgo_randdata_17mar_17...   \n",
       "2022-03-17 17:04:27  logs/DAQ_logs/lc-ASIC_tsalgo_randdata_oot_17ma...   \n",
       "2022-03-17 17:04:57  logs/DAQ_logs/lc-ASIC_tsalgo_randdata_17mar_17...   \n",
       "2022-03-17 17:05:56  logs/DAQ_logs/lc-ASIC_tsalgo_randdata_17mar_17...   \n",
       "2022-03-17 17:06:57  logs/DAQ_logs/lc-ASIC_tsalgo_randdata_17mar_17...   \n",
       "\n",
       "                                                        fName_Emulator  \\\n",
       "Time                                                                     \n",
       "2022-03-11 17:38:56         logs/DAQ_logs/lc-emulator_11mar_173856.csv   \n",
       "2022-03-11 17:39:26     logs/DAQ_logs/lc-emulator_oot_11mar_173926.csv   \n",
       "2022-03-11 17:39:56         logs/DAQ_logs/lc-emulator_11mar_173956.csv   \n",
       "2022-03-11 17:40:26     logs/DAQ_logs/lc-emulator_oot_11mar_174026.csv   \n",
       "2022-03-11 17:40:57         logs/DAQ_logs/lc-emulator_11mar_174057.csv   \n",
       "...                                                                ...   \n",
       "2022-03-17 17:03:56  logs/DAQ_logs/lc-emulator_tsalgo_randdata_17ma...   \n",
       "2022-03-17 17:04:27  logs/DAQ_logs/lc-emulator_tsalgo_randdata_oot_...   \n",
       "2022-03-17 17:04:57  logs/DAQ_logs/lc-emulator_tsalgo_randdata_17ma...   \n",
       "2022-03-17 17:05:56  logs/DAQ_logs/lc-emulator_tsalgo_randdata_17ma...   \n",
       "2022-03-17 17:06:57  logs/DAQ_logs/lc-emulator_tsalgo_randdata_17ma...   \n",
       "\n",
       "                                                           fName_Input  \\\n",
       "Time                                                                     \n",
       "2022-03-11 17:38:56            logs/DAQ_logs/lc-input_11mar_173856.csv   \n",
       "2022-03-11 17:39:26        logs/DAQ_logs/lc-input_oot_11mar_173926.csv   \n",
       "2022-03-11 17:39:56            logs/DAQ_logs/lc-input_11mar_173956.csv   \n",
       "2022-03-11 17:40:26        logs/DAQ_logs/lc-input_oot_11mar_174026.csv   \n",
       "2022-03-11 17:40:57            logs/DAQ_logs/lc-input_11mar_174057.csv   \n",
       "...                                                                ...   \n",
       "2022-03-17 17:03:56  logs/DAQ_logs/lc-input_tsalgo_randdata_17mar_1...   \n",
       "2022-03-17 17:04:27  logs/DAQ_logs/lc-input_tsalgo_randdata_oot_17m...   \n",
       "2022-03-17 17:04:57  logs/DAQ_logs/lc-input_tsalgo_randdata_17mar_1...   \n",
       "2022-03-17 17:05:56  logs/DAQ_logs/lc-input_tsalgo_randdata_17mar_1...   \n",
       "2022-03-17 17:06:57  logs/DAQ_logs/lc-input_tsalgo_randdata_17mar_1...   \n",
       "\n",
       "                     RelPosition  MotionTable  \n",
       "Time                                           \n",
       "2022-03-11 17:38:56           25          269  \n",
       "2022-03-11 17:39:26           25          269  \n",
       "2022-03-11 17:39:56           25          269  \n",
       "2022-03-11 17:40:26           25          269  \n",
       "2022-03-11 17:40:57           25          269  \n",
       "...                          ...          ...  \n",
       "2022-03-17 17:03:56           25          269  \n",
       "2022-03-17 17:04:27           25          269  \n",
       "2022-03-17 17:04:57           25          269  \n",
       "2022-03-17 17:05:56           25          269  \n",
       "2022-03-17 17:06:57           25          269  \n",
       "\n",
       "[2506 rows x 5 columns]"
      ]
     },
     "execution_count": 238,
     "metadata": {},
     "output_type": "execute_result"
    }
   ],
   "source": [
    "df_Files"
   ]
  },
  {
   "cell_type": "code",
   "execution_count": 239,
   "id": "b8c630f1",
   "metadata": {},
   "outputs": [],
   "source": [
    "monitoringLogs=glob.glob('logs/Monitoring_logs/*')"
   ]
  },
  {
   "cell_type": "code",
   "execution_count": 240,
   "id": "a229d395",
   "metadata": {},
   "outputs": [],
   "source": [
    "x=re.compile('(.*)\\sINFO\\s\\s\\sError counter (\\d*)')\n",
    "_timeStamps=[]\n",
    "_errcounts=[]\n",
    "_file=[]\n",
    "for _f in monitoringLogs[:]:\n",
    "    with open(_f) as _logFile:\n",
    "        for l in _logFile:\n",
    "            if x.match(l):\n",
    "                vals=x.match(l).groups()\n",
    "                if vals[1]=='0':\n",
    "                    continue\n",
    "                t=pd.to_datetime(vals[0])\n",
    "                e=int(vals[1])\n",
    "                _timeStamps.append(t)\n",
    "                _errcounts.append(e)\n",
    "                _file.append(_f)"
   ]
  },
  {
   "cell_type": "code",
   "execution_count": 241,
   "id": "ab44ffc8",
   "metadata": {},
   "outputs": [
    {
     "data": {
      "text/plain": [
       "2503"
      ]
     },
     "execution_count": 241,
     "metadata": {},
     "output_type": "execute_result"
    }
   ],
   "source": [
    "len(_timeStamps)"
   ]
  },
  {
   "cell_type": "code",
   "execution_count": 242,
   "id": "c640b516",
   "metadata": {},
   "outputs": [],
   "source": [
    "df_errCount=pd.DataFrame({'Time':_timeStamps,'Errors':_errcounts,'logFile':_file})\n",
    "df_errCount.set_index('Time',inplace=True)\n",
    "df_errCount.sort_index(inplace=True)"
   ]
  },
  {
   "cell_type": "code",
   "execution_count": 243,
   "id": "9749f42b",
   "metadata": {},
   "outputs": [
    {
     "data": {
      "text/html": [
       "<div>\n",
       "<style scoped>\n",
       "    .dataframe tbody tr th:only-of-type {\n",
       "        vertical-align: middle;\n",
       "    }\n",
       "\n",
       "    .dataframe tbody tr th {\n",
       "        vertical-align: top;\n",
       "    }\n",
       "\n",
       "    .dataframe thead th {\n",
       "        text-align: right;\n",
       "    }\n",
       "</style>\n",
       "<table border=\"1\" class=\"dataframe\">\n",
       "  <thead>\n",
       "    <tr style=\"text-align: right;\">\n",
       "      <th></th>\n",
       "      <th>fName_ASIC</th>\n",
       "      <th>fName_Emulator</th>\n",
       "      <th>fName_Input</th>\n",
       "      <th>RelPosition</th>\n",
       "      <th>MotionTable</th>\n",
       "    </tr>\n",
       "    <tr>\n",
       "      <th>Time</th>\n",
       "      <th></th>\n",
       "      <th></th>\n",
       "      <th></th>\n",
       "      <th></th>\n",
       "      <th></th>\n",
       "    </tr>\n",
       "  </thead>\n",
       "  <tbody>\n",
       "    <tr>\n",
       "      <th>2022-03-11 17:38:56</th>\n",
       "      <td>logs/DAQ_logs/lc-ASIC_11mar_173856.csv</td>\n",
       "      <td>logs/DAQ_logs/lc-emulator_11mar_173856.csv</td>\n",
       "      <td>logs/DAQ_logs/lc-input_11mar_173856.csv</td>\n",
       "      <td>25</td>\n",
       "      <td>269</td>\n",
       "    </tr>\n",
       "    <tr>\n",
       "      <th>2022-03-11 17:39:26</th>\n",
       "      <td>logs/DAQ_logs/lc-ASIC_oot_11mar_173926.csv</td>\n",
       "      <td>logs/DAQ_logs/lc-emulator_oot_11mar_173926.csv</td>\n",
       "      <td>logs/DAQ_logs/lc-input_oot_11mar_173926.csv</td>\n",
       "      <td>25</td>\n",
       "      <td>269</td>\n",
       "    </tr>\n",
       "    <tr>\n",
       "      <th>2022-03-11 17:39:56</th>\n",
       "      <td>logs/DAQ_logs/lc-ASIC_11mar_173956.csv</td>\n",
       "      <td>logs/DAQ_logs/lc-emulator_11mar_173956.csv</td>\n",
       "      <td>logs/DAQ_logs/lc-input_11mar_173956.csv</td>\n",
       "      <td>25</td>\n",
       "      <td>269</td>\n",
       "    </tr>\n",
       "    <tr>\n",
       "      <th>2022-03-11 17:40:26</th>\n",
       "      <td>logs/DAQ_logs/lc-ASIC_oot_11mar_174026.csv</td>\n",
       "      <td>logs/DAQ_logs/lc-emulator_oot_11mar_174026.csv</td>\n",
       "      <td>logs/DAQ_logs/lc-input_oot_11mar_174026.csv</td>\n",
       "      <td>25</td>\n",
       "      <td>269</td>\n",
       "    </tr>\n",
       "    <tr>\n",
       "      <th>2022-03-11 17:40:57</th>\n",
       "      <td>logs/DAQ_logs/lc-ASIC_11mar_174057.csv</td>\n",
       "      <td>logs/DAQ_logs/lc-emulator_11mar_174057.csv</td>\n",
       "      <td>logs/DAQ_logs/lc-input_11mar_174057.csv</td>\n",
       "      <td>25</td>\n",
       "      <td>269</td>\n",
       "    </tr>\n",
       "    <tr>\n",
       "      <th>...</th>\n",
       "      <td>...</td>\n",
       "      <td>...</td>\n",
       "      <td>...</td>\n",
       "      <td>...</td>\n",
       "      <td>...</td>\n",
       "    </tr>\n",
       "    <tr>\n",
       "      <th>2022-03-17 17:03:56</th>\n",
       "      <td>logs/DAQ_logs/lc-ASIC_tsalgo_randdata_17mar_17...</td>\n",
       "      <td>logs/DAQ_logs/lc-emulator_tsalgo_randdata_17ma...</td>\n",
       "      <td>logs/DAQ_logs/lc-input_tsalgo_randdata_17mar_1...</td>\n",
       "      <td>25</td>\n",
       "      <td>269</td>\n",
       "    </tr>\n",
       "    <tr>\n",
       "      <th>2022-03-17 17:04:27</th>\n",
       "      <td>logs/DAQ_logs/lc-ASIC_tsalgo_randdata_oot_17ma...</td>\n",
       "      <td>logs/DAQ_logs/lc-emulator_tsalgo_randdata_oot_...</td>\n",
       "      <td>logs/DAQ_logs/lc-input_tsalgo_randdata_oot_17m...</td>\n",
       "      <td>25</td>\n",
       "      <td>269</td>\n",
       "    </tr>\n",
       "    <tr>\n",
       "      <th>2022-03-17 17:04:57</th>\n",
       "      <td>logs/DAQ_logs/lc-ASIC_tsalgo_randdata_17mar_17...</td>\n",
       "      <td>logs/DAQ_logs/lc-emulator_tsalgo_randdata_17ma...</td>\n",
       "      <td>logs/DAQ_logs/lc-input_tsalgo_randdata_17mar_1...</td>\n",
       "      <td>25</td>\n",
       "      <td>269</td>\n",
       "    </tr>\n",
       "    <tr>\n",
       "      <th>2022-03-17 17:05:56</th>\n",
       "      <td>logs/DAQ_logs/lc-ASIC_tsalgo_randdata_17mar_17...</td>\n",
       "      <td>logs/DAQ_logs/lc-emulator_tsalgo_randdata_17ma...</td>\n",
       "      <td>logs/DAQ_logs/lc-input_tsalgo_randdata_17mar_1...</td>\n",
       "      <td>25</td>\n",
       "      <td>269</td>\n",
       "    </tr>\n",
       "    <tr>\n",
       "      <th>2022-03-17 17:06:57</th>\n",
       "      <td>logs/DAQ_logs/lc-ASIC_tsalgo_randdata_17mar_17...</td>\n",
       "      <td>logs/DAQ_logs/lc-emulator_tsalgo_randdata_17ma...</td>\n",
       "      <td>logs/DAQ_logs/lc-input_tsalgo_randdata_17mar_1...</td>\n",
       "      <td>25</td>\n",
       "      <td>269</td>\n",
       "    </tr>\n",
       "  </tbody>\n",
       "</table>\n",
       "<p>2506 rows × 5 columns</p>\n",
       "</div>"
      ],
      "text/plain": [
       "                                                            fName_ASIC  \\\n",
       "Time                                                                     \n",
       "2022-03-11 17:38:56             logs/DAQ_logs/lc-ASIC_11mar_173856.csv   \n",
       "2022-03-11 17:39:26         logs/DAQ_logs/lc-ASIC_oot_11mar_173926.csv   \n",
       "2022-03-11 17:39:56             logs/DAQ_logs/lc-ASIC_11mar_173956.csv   \n",
       "2022-03-11 17:40:26         logs/DAQ_logs/lc-ASIC_oot_11mar_174026.csv   \n",
       "2022-03-11 17:40:57             logs/DAQ_logs/lc-ASIC_11mar_174057.csv   \n",
       "...                                                                ...   \n",
       "2022-03-17 17:03:56  logs/DAQ_logs/lc-ASIC_tsalgo_randdata_17mar_17...   \n",
       "2022-03-17 17:04:27  logs/DAQ_logs/lc-ASIC_tsalgo_randdata_oot_17ma...   \n",
       "2022-03-17 17:04:57  logs/DAQ_logs/lc-ASIC_tsalgo_randdata_17mar_17...   \n",
       "2022-03-17 17:05:56  logs/DAQ_logs/lc-ASIC_tsalgo_randdata_17mar_17...   \n",
       "2022-03-17 17:06:57  logs/DAQ_logs/lc-ASIC_tsalgo_randdata_17mar_17...   \n",
       "\n",
       "                                                        fName_Emulator  \\\n",
       "Time                                                                     \n",
       "2022-03-11 17:38:56         logs/DAQ_logs/lc-emulator_11mar_173856.csv   \n",
       "2022-03-11 17:39:26     logs/DAQ_logs/lc-emulator_oot_11mar_173926.csv   \n",
       "2022-03-11 17:39:56         logs/DAQ_logs/lc-emulator_11mar_173956.csv   \n",
       "2022-03-11 17:40:26     logs/DAQ_logs/lc-emulator_oot_11mar_174026.csv   \n",
       "2022-03-11 17:40:57         logs/DAQ_logs/lc-emulator_11mar_174057.csv   \n",
       "...                                                                ...   \n",
       "2022-03-17 17:03:56  logs/DAQ_logs/lc-emulator_tsalgo_randdata_17ma...   \n",
       "2022-03-17 17:04:27  logs/DAQ_logs/lc-emulator_tsalgo_randdata_oot_...   \n",
       "2022-03-17 17:04:57  logs/DAQ_logs/lc-emulator_tsalgo_randdata_17ma...   \n",
       "2022-03-17 17:05:56  logs/DAQ_logs/lc-emulator_tsalgo_randdata_17ma...   \n",
       "2022-03-17 17:06:57  logs/DAQ_logs/lc-emulator_tsalgo_randdata_17ma...   \n",
       "\n",
       "                                                           fName_Input  \\\n",
       "Time                                                                     \n",
       "2022-03-11 17:38:56            logs/DAQ_logs/lc-input_11mar_173856.csv   \n",
       "2022-03-11 17:39:26        logs/DAQ_logs/lc-input_oot_11mar_173926.csv   \n",
       "2022-03-11 17:39:56            logs/DAQ_logs/lc-input_11mar_173956.csv   \n",
       "2022-03-11 17:40:26        logs/DAQ_logs/lc-input_oot_11mar_174026.csv   \n",
       "2022-03-11 17:40:57            logs/DAQ_logs/lc-input_11mar_174057.csv   \n",
       "...                                                                ...   \n",
       "2022-03-17 17:03:56  logs/DAQ_logs/lc-input_tsalgo_randdata_17mar_1...   \n",
       "2022-03-17 17:04:27  logs/DAQ_logs/lc-input_tsalgo_randdata_oot_17m...   \n",
       "2022-03-17 17:04:57  logs/DAQ_logs/lc-input_tsalgo_randdata_17mar_1...   \n",
       "2022-03-17 17:05:56  logs/DAQ_logs/lc-input_tsalgo_randdata_17mar_1...   \n",
       "2022-03-17 17:06:57  logs/DAQ_logs/lc-input_tsalgo_randdata_17mar_1...   \n",
       "\n",
       "                     RelPosition  MotionTable  \n",
       "Time                                           \n",
       "2022-03-11 17:38:56           25          269  \n",
       "2022-03-11 17:39:26           25          269  \n",
       "2022-03-11 17:39:56           25          269  \n",
       "2022-03-11 17:40:26           25          269  \n",
       "2022-03-11 17:40:57           25          269  \n",
       "...                          ...          ...  \n",
       "2022-03-17 17:03:56           25          269  \n",
       "2022-03-17 17:04:27           25          269  \n",
       "2022-03-17 17:04:57           25          269  \n",
       "2022-03-17 17:05:56           25          269  \n",
       "2022-03-17 17:06:57           25          269  \n",
       "\n",
       "[2506 rows x 5 columns]"
      ]
     },
     "execution_count": 243,
     "metadata": {},
     "output_type": "execute_result"
    }
   ],
   "source": [
    "df_Files"
   ]
  },
  {
   "cell_type": "code",
   "execution_count": 263,
   "id": "b75b323e",
   "metadata": {},
   "outputs": [],
   "source": [
    "x=pd.merge_asof(df_Files.reset_index(),\n",
    "                df_errCount.reset_index(),\n",
    "                on='Time',\n",
    "                direction='nearest',\n",
    "                tolerance=pd.Timedelta(\"15s\"))"
   ]
  },
  {
   "cell_type": "code",
   "execution_count": 266,
   "id": "1f312f5e",
   "metadata": {},
   "outputs": [
    {
     "data": {
      "text/plain": [
       "<AxesSubplot:xlabel='Time'>"
      ]
     },
     "execution_count": 266,
     "metadata": {},
     "output_type": "execute_result"
    },
    {
     "data": {
      "image/png": "[encoded data removed]",
      "text/plain": [
       "<Figure size 432x288 with 1 Axes>"
      ]
     },
     "metadata": {
      "needs_background": "light"
     },
     "output_type": "display_data"
    }
   ],
   "source": [
    "x.plot('Time','RelPosition')"
   ]
  },
  {
   "cell_type": "code",
   "execution_count": 278,
   "id": "7e4da824",
   "metadata": {},
   "outputs": [],
   "source": [
    "x.Errors=x.Errors.fillna(0).astype(int)\n",
    "x.logFile=x.logFile.ffill()"
   ]
  },
  {
   "cell_type": "code",
   "execution_count": 282,
   "id": "03c38468",
   "metadata": {},
   "outputs": [],
   "source": [
    "x.to_csv('logs/ErrorInfo.csv',index=False)"
   ]
  },
  {
   "cell_type": "code",
   "execution_count": null,
   "id": "ba4c626c",
   "metadata": {},
   "outputs": [],
   "source": []
  }
 ],
 "metadata": {
  "kernelspec": {
   "display_name": "Python 3 (ipykernel)",
   "language": "python",
   "name": "python3"
  },
  "language_info": {
   "codemirror_mode": {
    "name": "ipython",
    "version": 3
   },
   "file_extension": ".py",
   "mimetype": "text/x-python",
   "name": "python",
   "nbconvert_exporter": "python",
   "pygments_lexer": "ipython3",
   "version": "3.8.9"
  }
 },
 "nbformat": 4,
 "nbformat_minor": 5
}
