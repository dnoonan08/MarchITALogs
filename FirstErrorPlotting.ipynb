{
 "cells": [
  {
   "cell_type": "code",
   "execution_count": null,
   "id": "65483c2d",
   "metadata": {},
   "outputs": [],
   "source": [
    "import pandas as pd\n",
    "import numpy as np\n",
    "import matplotlib.pyplot as plt\n",
    "import glob"
   ]
  },
  {
   "cell_type": "code",
   "execution_count": null,
   "id": "55e97fd2",
   "metadata": {},
   "outputs": [],
   "source": [
    "#in future, replace with list of files from error info csv file\n",
    "\n",
    "flist=glob.glob('logs/DAQ_logs/lc-ASIC_tsalgo_randdata_17mar_16*csv')\n",
    "flist.sort()\n",
    "oot_flist=glob.glob('logs/DAQ_logs/lc-ASIC_tsalgo_randdata_oot_17mar_16*csv')\n",
    "oot_flist.sort()\n"
   ]
  },
  {
   "cell_type": "code",
   "execution_count": null,
   "id": "2d6dab7d",
   "metadata": {},
   "outputs": [],
   "source": [
    "# fig,ax=plt.subplots(2,1,figsize=(10,16))\n",
    "fig,ax=plt.subplots(3,1,figsize=(10,24))\n",
    "oot_errCount=[]\n",
    "oot_timestamps=[]\n",
    "for fName in flist[:]:\n",
    "    t='22'+''.join(fName[:-4].split('_')[-2:])\n",
    "    t=pd.to_datetime(t,format='%y%d%b%H%M%S')\n",
    "    df_ASIC=pd.read_csv(fName)\n",
    "    df_em=pd.read_csv(fName.replace('ASIC','emulator'))\n",
    "    oot_timestamps.append(t)\n",
    "    oot_errCount.append((~(df_ASIC==df_em).all(axis=1)).sum())\n",
    "\n",
    "    \n",
    "    t=(np.arange(4095))*.025\n",
    "    ax[0].plot(t,(df_ASIC==df_em).all(axis=1).astype(int).values)\n",
    "    # plt.xlim(440,470)\n",
    "    ax[0].set_xlim(0,2000*.025)\n",
    "    ax[0].set_xlabel('Time (µs)')\n",
    "    ax[0].set_ylabel('Match (1) / Mismatch (0)')\n",
    "\n",
    "    bits_ASIC=np.array([[*f\"{int(''.join(x),16):0416b}\"] for x in df_ASIC.values],dtype=int)\n",
    "    bits_em=np.array([[*f\"{int(''.join(x),16):0416b}\"] for x in df_em.values],dtype=int)\n",
    "    x=(416-(bits_ASIC==bits_em).sum(axis=1))\n",
    "    ax[1].plot(x)\n",
    "    ax[1].set_xlim(0,2000)\n",
    "    ax[1].set_xlabel('BX Number')\n",
    "    ax[1].set_ylabel('Bit errors per BX (out of 416 total)')\n",
    "    \n",
    "ax[0].patch.set_alpha(1.)\n",
    "ax[1].patch.set_alpha(1.)\n",
    "ax[2].plot(oot_timestamps,oot_errCount)\n",
    "fig.patch.set_alpha(1.)"
   ]
  },
  {
   "cell_type": "code",
   "execution_count": null,
   "id": "184ea51f",
   "metadata": {},
   "outputs": [],
   "source": [
    "# fig,ax=plt.subplots(2,1,figsize=(10,16))\n",
    "fig,ax=plt.subplots(3,1,figsize=(10,24))\n",
    "oot_errCount=[]\n",
    "oot_timestamps=[]\n",
    "for fName in oot_flist[:]:\n",
    "    t='22'+''.join(fName[:-4].split('_')[-2:])\n",
    "    t=pd.to_datetime(t,format='%y%d%b%H%M%S')\n",
    "    df_ASIC=pd.read_csv(fName)\n",
    "    df_em=pd.read_csv(fName.replace('ASIC','emulator'))\n",
    "    oot_timestamps.append(t)\n",
    "    oot_errCount.append((~(df_ASIC==df_em).all(axis=1)).sum())\n",
    "\n",
    "    \n",
    "    t=(np.arange(4095))*.025\n",
    "    ax[0].plot(t,(df_ASIC==df_em).all(axis=1).astype(int).values)\n",
    "    # plt.xlim(440,470)\n",
    "    ax[0].set_xlim(0,2000*.025)\n",
    "    ax[0].set_xlabel('Time (µs)')\n",
    "    ax[0].set_ylabel('Match (1) / Mismatch (0)')\n",
    "\n",
    "    bits_ASIC=np.array([[*f\"{int(''.join(x),16):0416b}\"] for x in df_ASIC.values],dtype=int)\n",
    "    bits_em=np.array([[*f\"{int(''.join(x),16):0416b}\"] for x in df_em.values],dtype=int)\n",
    "    x=(416-(bits_ASIC==bits_em).sum(axis=1))\n",
    "    ax[1].plot(x)\n",
    "    ax[1].set_xlim(0,2000)\n",
    "    ax[1].set_xlabel('BX Number')\n",
    "    ax[1].set_ylabel('Bit errors per BX (out of 416 total)')\n",
    "    \n",
    "ax[0].patch.set_alpha(1.)\n",
    "ax[1].patch.set_alpha(1.)\n",
    "ax[2].plot(oot_timestamps,oot_errCount)\n",
    "fig.patch.set_alpha(1.)"
   ]
  },
  {
   "cell_type": "code",
   "execution_count": null,
   "id": "4467fa97",
   "metadata": {},
   "outputs": [],
   "source": [
    "len(flist)"
   ]
  },
  {
   "cell_type": "code",
   "execution_count": null,
   "id": "7aeb99e3",
   "metadata": {},
   "outputs": [],
   "source": [
    "oot_flist"
   ]
  },
  {
   "cell_type": "code",
   "execution_count": null,
   "id": "c18f5515",
   "metadata": {},
   "outputs": [],
   "source": [
    "fig,ax=plt.subplots(1,2,figsize=(15,6))\n",
    "\n",
    "fName='logs/DAQ_logs/lc-ASIC_tsalgo_randdata_oot_17mar_153415.csv'\n",
    "df_ASIC=pd.read_csv(fName)\n",
    "df_em=pd.read_csv(fName.replace('ASIC','emulator'))\n",
    "\n",
    "bx=range(1,1000)\n",
    "bits_ASIC=np.array([[*f\"{int(''.join(x),16):0416b}\"] for x in df_ASIC.values],dtype=int)\n",
    "bits_em=np.array([[*f\"{int(''.join(x),16):0416b}\"] for x in df_em.values],dtype=int)\n",
    "for j in range(8):\n",
    "    eTx0_ASIC=bits_ASIC[:,j*32:(j+1)*32][::-1].flatten()[::-1]\n",
    "    eTx0_em=bits_em[:,j*32:(j+1)*32][::-1].flatten()[::-1]\n",
    "\n",
    "    y=[]\n",
    "    y2=[]\n",
    "    p=8\n",
    "    for k in bx:\n",
    "        n=k*32\n",
    "        a=eTx0_em[n:n+64]\n",
    "        b=np.array([eTx0_ASIC[n+i-p:n+64+i-p] for i in range(2*p)])\n",
    "        y.append((a==b).sum(axis=1).argmax())\n",
    "        y2.append((a==b).sum(axis=1).max())\n",
    "    #     print(j,(a==b).sum(axis=1).argmax(),(a==b).sum(axis=1).max())\n",
    "    y=np.array(y)-p\n",
    "    ax[0].plot(bx,y,label=f'eTx {j}')\n",
    "    ax[1].plot(bx,y2)\n",
    "ax[0].set_ylim(-8,8)\n",
    "ax[0].set_xlabel('BX')\n",
    "ax[1].set_xlabel('BX')\n",
    "ax[0].set_ylabel('Best Bit Shift')\n",
    "ax[1].set_ylabel('Correct Bits at best bit shift')\n",
    "ax[0].legend()"
   ]
  },
  {
   "cell_type": "code",
   "execution_count": null,
   "id": "b8729092",
   "metadata": {},
   "outputs": [],
   "source": []
  },
  {
   "cell_type": "code",
   "execution_count": null,
   "id": "a0cc2a5b",
   "metadata": {},
   "outputs": [],
   "source": []
  },
  {
   "cell_type": "code",
   "execution_count": null,
   "id": "a487bbde",
   "metadata": {},
   "outputs": [],
   "source": []
  }
 ],
 "metadata": {
  "kernelspec": {
   "display_name": "Python 3 (ipykernel)",
   "language": "python",
   "name": "python3"
  },
  "language_info": {
   "codemirror_mode": {
    "name": "ipython",
    "version": 3
   },
   "file_extension": ".py",
   "mimetype": "text/x-python",
   "name": "python",
   "nbconvert_exporter": "python",
   "pygments_lexer": "ipython3",
   "version": "3.8.9"
  }
 },
 "nbformat": 4,
 "nbformat_minor": 5
}
