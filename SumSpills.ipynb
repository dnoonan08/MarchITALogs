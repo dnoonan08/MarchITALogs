{
 "cells": [
  {
   "cell_type": "code",
   "execution_count": null,
   "id": "b993d4bc",
   "metadata": {},
   "outputs": [],
   "source": [
    "import pandas as pd\n",
    "import numpy as np"
   ]
  },
  {
   "cell_type": "code",
   "execution_count": null,
   "id": "5a13c0b5",
   "metadata": {},
   "outputs": [],
   "source": [
    "df=pd.read_csv('logs/BeamInfo.csv')\n",
    "df.columns=['E','timestamp', 'protonCount', 'integratedProtons']\n",
    "df.drop('E',axis=1,inplace=True)\n",
    "df.timestamp=pd.to_datetime(df.timestamp)"
   ]
  },
  {
   "cell_type": "code",
   "execution_count": null,
   "id": "2c65d71f",
   "metadata": {},
   "outputs": [],
   "source": [
    "#group by one second\n",
    "x=df.groupby(pd.Grouper(key = 'timestamp', freq='1s')).sum()[['protonCount']]\n",
    "\n",
    "#drop empty times\n",
    "x=x[x.protonCount>0]"
   ]
  },
  {
   "cell_type": "code",
   "execution_count": null,
   "id": "132add03",
   "metadata": {},
   "outputs": [],
   "source": [
    "#find samples only one second difference (pulses from spill split across two seconds) and add them, dropping the second one\n",
    "t=x.reset_index().timestamp\n",
    "dt=t.shift(-1)-t\n",
    "\n",
    "#groups with one second before next\n",
    "n=(dt==np.timedelta64(1000000000)).values\n",
    "#next group\n",
    "np1=(dt.shift()==np.timedelta64(1000000000)).values\n",
    "\n",
    "#add next group to first\n",
    "x[n] +=x[np1].values\n",
    "#drop next group\n",
    "x.drop(x[np1].index,inplace=True)"
   ]
  },
  {
   "cell_type": "code",
   "execution_count": null,
   "id": "59a4049e",
   "metadata": {},
   "outputs": [],
   "source": [
    "x.to_csv('logs/BeamInfoSummedToSpills.csv')"
   ]
  },
  {
   "cell_type": "code",
   "execution_count": null,
   "id": "8ae96c18",
   "metadata": {},
   "outputs": [],
   "source": []
  }
 ],
 "metadata": {
  "kernelspec": {
   "display_name": "Python 3 (ipykernel)",
   "language": "python",
   "name": "python3"
  },
  "language_info": {
   "codemirror_mode": {
    "name": "ipython",
    "version": 3
   },
   "file_extension": ".py",
   "mimetype": "text/x-python",
   "name": "python",
   "nbconvert_exporter": "python",
   "pygments_lexer": "ipython3",
   "version": "3.8.9"
  }
 },
 "nbformat": 4,
 "nbformat_minor": 5
}
